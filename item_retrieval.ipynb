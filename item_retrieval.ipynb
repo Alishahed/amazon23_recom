{
 "cells": [
  {
   "cell_type": "markdown",
   "metadata": {},
   "source": [
    "# Amazon product recomendation with user's natural language query (POC)\n",
    "In this notebook we utilize the vectors and Faiss indeces that we created in previous notebook (title_vectorization.ipynb) to retrive and recommend the closest items in our database to user's natural language query."
   ]
  },
  {
   "cell_type": "code",
   "execution_count": 19,
   "metadata": {},
   "outputs": [],
   "source": [
    "import pandas as pd\n",
    "import numpy as np\n",
    "import faiss\n",
    "from transformers import MPNetModel, MPNetTokenizer\n",
    "#from sentence_transformers import SentenceTransformer\n",
    "import torch\n",
    "from tqdm.auto import tqdm\n",
    "pd.set_option('display.max_rows', 50)\n",
    "pd.set_option('display.max_colwidth', None)\n"
   ]
  },
  {
   "cell_type": "markdown",
   "metadata": {},
   "source": [
    "Encoding and search the index function"
   ]
  },
  {
   "cell_type": "code",
   "execution_count": 20,
   "metadata": {},
   "outputs": [],
   "source": [
    "# Batch encoding function with GPU acceleration\n",
    "def encode_texts_in_batches_gpu(texts, batch_size=32):\n",
    "    tokenizer = MPNetTokenizer.from_pretrained('sentence-transformers/all-mpnet-base-v2')\n",
    "    model = MPNetModel.from_pretrained('sentence-transformers/all-mpnet-base-v2').cuda()  # Move model to GPU\n",
    "    model.eval()  # Evaluation mode\n",
    "\n",
    "    all_embeddings = []\n",
    "    \n",
    "    for i in tqdm(range(0, len(texts), batch_size), desc=\"Encoding Texts\"):\n",
    "        batch_texts = texts[i:i + batch_size]\n",
    "        encoded_input = tokenizer(batch_texts, padding=True, truncation=True, max_length=128, return_tensors='pt').to('cuda')\n",
    "        \n",
    "        with torch.no_grad():\n",
    "            model_output = model(**encoded_input)\n",
    "        embeddings = model_output.last_hidden_state.mean(dim=1).cpu().numpy()  # Move embeddings back to CPU\n",
    "        all_embeddings.extend(embeddings)\n",
    "    \n",
    "    return np.array(all_embeddings)\n",
    "\n",
    "# Function to search the Faiss index\n",
    "def search_query(query, df, index, k=3):\n",
    "    query_vec = encode_texts_in_batches_gpu([query])[0]  # Vectorize query\n",
    "    distances, indices = index.search(np.array([query_vec]), k)  # Search\n",
    "    closest_texts = df.iloc[indices[0]]['title'].values\n",
    "    closest_ids = df.iloc[indices[0]]['parent_asin'].values\n",
    "    return closest_texts, closest_ids, distances\n",
    "\n"
   ]
  },
  {
   "cell_type": "markdown",
   "metadata": {},
   "source": [
    "loading the index and vector files, encoding user's query and search and retrieve the closest titles to users query."
   ]
  },
  {
   "cell_type": "code",
   "execution_count": 21,
   "metadata": {},
   "outputs": [
    {
     "name": "stderr",
     "output_type": "stream",
     "text": [
      "Encoding Texts: 100%|██████████| 1/1 [00:00<00:00, 76.76it/s]"
     ]
    },
    {
     "name": "stdout",
     "output_type": "stream",
     "text": [
      "Closest text(s): ['Best Face Moisturizer For Oily Skin – Rapid Absorbing Facial Moisturizer For Face, Facial Cream With Silky Feel - For Oily Skin Face Cream For Women – Organic Ocean Minerals, Aloe Vera,'\n",
      " 'IOPE Super Vital Cream Bio Excellent 50ml With Gift Set / best moisturizer for dry skin'\n",
      " 'My Face Hyaluronic Acid Face Wash Cream With Collagen Konjac Sponge - Restore And Radiate Hydrating Facial Cleanser Kit - Oil Free, Hypoallergenic - Gentle Exfoliating Cleansing For Dry Skin']\n",
      "Corresponding ID(s): ['B07FK6V8MG' 'B01MEE6DT7' 'B0854NXJX8']\n",
      "Distances: [[5.630227 5.643558 5.902549]]\n"
     ]
    },
    {
     "name": "stderr",
     "output_type": "stream",
     "text": [
      "\n"
     ]
    }
   ],
   "source": [
    "\n",
    "\n",
    "# Loading vectorized texts and Faiss index for demonstration\n",
    "df_loaded = pd.read_pickle(\"vectors_indeces/vectorized_texts_v2.pkl\")\n",
    "index_loaded = faiss.read_index(\"vectors_indeces/faiss_index_v2.bin\")\n",
    "\n",
    "# Perform a search query\n",
    "query = \"I have a dry skin and need a moisturizer for my face. What do you recommend?\"\n",
    "closest_titles, closest_parent_asin, distances = search_query(query, df_loaded, index_loaded)\n",
    "\n",
    "print(\"Closest text(s):\", closest_titles)\n",
    "print(\"Corresponding ID(s):\", closest_parent_asin)\n",
    "print(\"Distances:\", distances)\n"
   ]
  },
  {
   "cell_type": "markdown",
   "metadata": {},
   "source": [
    "#Retrieve and organize the reviews for each retrieved parent item."
   ]
  },
  {
   "cell_type": "code",
   "execution_count": 22,
   "metadata": {},
   "outputs": [],
   "source": [
    "df_retrieve = pd.DataFrame({\n",
    "    'parent_asin': closest_parent_asin,\n",
    "    'distances': distances[0]\n",
    "})\n",
    "df_reviews = pd.read_csv('data/all_beauty_review_amazon.csv',usecols=['parent_asin','title','text','rating'])\n"
   ]
  },
  {
   "cell_type": "code",
   "execution_count": 23,
   "metadata": {},
   "outputs": [],
   "source": [
    "filtered_df = df_reviews[df_reviews['parent_asin'].isin(closest_parent_asin)]\n",
    "aggregated_reviews = filtered_df.groupby('parent_asin')['text'].agg(lambda x: ''.join(str(x))).reset_index()\n",
    "avg_rating = filtered_df.groupby('parent_asin')['rating'].mean().reset_index()"
   ]
  },
  {
   "cell_type": "code",
   "execution_count": 24,
   "metadata": {},
   "outputs": [],
   "source": [
    "new_df = pd.DataFrame({\n",
    "    'parent_asin': aggregated_reviews['parent_asin'],\n",
    "    'all_reviews': aggregated_reviews['text'],\n",
    "    'avg_rating': avg_rating['rating']\n",
    "})\n",
    "\n",
    "df_final = df_retrieve.merge(new_df, on='parent_asin', how='left')"
   ]
  },
  {
   "cell_type": "code",
   "execution_count": 25,
   "metadata": {},
   "outputs": [
    {
     "data": {
      "text/html": [
       "<div>\n",
       "<style scoped>\n",
       "    .dataframe tbody tr th:only-of-type {\n",
       "        vertical-align: middle;\n",
       "    }\n",
       "\n",
       "    .dataframe tbody tr th {\n",
       "        vertical-align: top;\n",
       "    }\n",
       "\n",
       "    .dataframe thead th {\n",
       "        text-align: right;\n",
       "    }\n",
       "</style>\n",
       "<table border=\"1\" class=\"dataframe\">\n",
       "  <thead>\n",
       "    <tr style=\"text-align: right;\">\n",
       "      <th></th>\n",
       "      <th>parent_asin</th>\n",
       "      <th>distances</th>\n",
       "      <th>all_reviews</th>\n",
       "      <th>avg_rating</th>\n",
       "    </tr>\n",
       "  </thead>\n",
       "  <tbody>\n",
       "    <tr>\n",
       "      <th>0</th>\n",
       "      <td>B07FK6V8MG</td>\n",
       "      <td>5.630227</td>\n",
       "      <td>118909    Just too heavy &amp; felt oily on my already oily skin.  I wanted it to be the \"one\", but...I use on my neck &amp; chest.  So it's great, for me, for that.\\nName: text, dtype: object</td>\n",
       "      <td>3.0</td>\n",
       "    </tr>\n",
       "    <tr>\n",
       "      <th>1</th>\n",
       "      <td>B01MEE6DT7</td>\n",
       "      <td>5.643558</td>\n",
       "      <td>257674    This kit is awesome!!! Although I bought it mostly for the face cream, I also appreciate the other products, especially the softener. I apply the softener after I apply my essences and it feels so soft and amazing. I also enjoy the emulsion for the daytime as a lighter moisturizer option. The serum was ok, I didn't feel much of a difference from applying it and not applying it, and same about the eyecream. I have dry/combination skin, on the sensitive side. Overall, it's a great kit, but the face cream 100% steals the show. I will most likely purchase it again.\\n315015                                                                                                                                                                                                                                                                                                                                                                                                                                                                                                                                                                          I really like it.\\nName: text, dtype: object</td>\n",
       "      <td>5.0</td>\n",
       "    </tr>\n",
       "    <tr>\n",
       "      <th>2</th>\n",
       "      <td>B0854NXJX8</td>\n",
       "      <td>5.902549</td>\n",
       "      <td>5673      I like the sponge that comes with it. It comes wrapped in plastic and feels very hard, like a pumice stone. Once you soak it in water though, it becomes very soft and malleable. The sponge alone is a 5/5.&lt;br /&gt;&lt;br /&gt;The cleanser on the other hand isn't a favorite of mine. It does not have an inner seal and the smell is just meh. I don't know how another reviewer got a citrus smell since the ingredients don't include fragrance. I think the cleanser is a little too harsh and drying for my skin, it might be better for people with very oily skin.\\n442674                                                                                                                                                                                                                                                                                                                                                                      This is a great cleanser your face feels nice and smooth afterwards it got all the gunk off my face when I had when I have my moisturizer and stuff on and gets it all off great buy for the money\\nName: text, dtype: object</td>\n",
       "      <td>4.0</td>\n",
       "    </tr>\n",
       "  </tbody>\n",
       "</table>\n",
       "</div>"
      ],
      "text/plain": [
       "  parent_asin  distances  \\\n",
       "0  B07FK6V8MG   5.630227   \n",
       "1  B01MEE6DT7   5.643558   \n",
       "2  B0854NXJX8   5.902549   \n",
       "\n",
       "                                                                                                                                                                                                                                                                                                                                                                                                                                                                                                                                                                                                                                                                                                                                                                                                                                                                                                                                                                                                                                                                                                                                                                                                                       all_reviews  \\\n",
       "0                                                                                                                                                                                                                                                                                                                                                                                                                                                                                                                                                                                                                                                                                                                                                                                                                                                                                                                                                                                                                                         118909    Just too heavy & felt oily on my already oily skin.  I wanted it to be the \"one\", but...I use on my neck & chest.  So it's great, for me, for that.\\nName: text, dtype: object   \n",
       "1  257674    This kit is awesome!!! Although I bought it mostly for the face cream, I also appreciate the other products, especially the softener. I apply the softener after I apply my essences and it feels so soft and amazing. I also enjoy the emulsion for the daytime as a lighter moisturizer option. The serum was ok, I didn't feel much of a difference from applying it and not applying it, and same about the eyecream. I have dry/combination skin, on the sensitive side. Overall, it's a great kit, but the face cream 100% steals the show. I will most likely purchase it again.\\n315015                                                                                                                                                                                                                                                                                                                                                                                                                                                                                                                                                                          I really like it.\\nName: text, dtype: object   \n",
       "2                                        5673      I like the sponge that comes with it. It comes wrapped in plastic and feels very hard, like a pumice stone. Once you soak it in water though, it becomes very soft and malleable. The sponge alone is a 5/5.<br /><br />The cleanser on the other hand isn't a favorite of mine. It does not have an inner seal and the smell is just meh. I don't know how another reviewer got a citrus smell since the ingredients don't include fragrance. I think the cleanser is a little too harsh and drying for my skin, it might be better for people with very oily skin.\\n442674                                                                                                                                                                                                                                                                                                                                                                      This is a great cleanser your face feels nice and smooth afterwards it got all the gunk off my face when I had when I have my moisturizer and stuff on and gets it all off great buy for the money\\nName: text, dtype: object   \n",
       "\n",
       "   avg_rating  \n",
       "0         3.0  \n",
       "1         5.0  \n",
       "2         4.0  "
      ]
     },
     "execution_count": 25,
     "metadata": {},
     "output_type": "execute_result"
    }
   ],
   "source": [
    "df_final"
   ]
  },
  {
   "cell_type": "markdown",
   "metadata": {},
   "source": [
    "processing all comments using an LLM to write a report containing user's sentiment about the product as well as pros and cons of the product, based on user reviews."
   ]
  },
  {
   "cell_type": "code",
   "execution_count": 26,
   "metadata": {},
   "outputs": [],
   "source": [
    "# Using Neural chat 7B model locally to summarize the reviews.\n",
    "# The API structure is exactly like the openAI API so you can replace the base_url and api_key with the actual openAI API key and base_url for the actual openAI API and run the code.\n",
    "from openai import OpenAI\n",
    "summary_reviews = []\n",
    "\n",
    "for i in range(0, len(df_final['all_reviews'])):\n",
    "    # Point to the local server\n",
    "    client = OpenAI(base_url=\"http://localhost:1234/v1\", api_key=\"not-needed\")\n",
    "\n",
    "    completion = client.chat.completions.create(\n",
    "    model=\"local-model\", # this field is currently unused\n",
    "    messages=[\n",
    "        {\"role\": \"system\", \"content\": '''Here is a list of reviews for a particular product. Please process them and creat \n",
    "                                    a summary of all the important points that are mentioned in reviews in one paragraph including overall sentiment of reviewers toward this product as well as positive aspects and negative aspect of the product A rrange all that under one element called final verdict. Don't include any of the review texts in the final output. The final result should look like this example: \"Final Verdict: The product is great. It is very effective and works well. However, it is a bit expensive. Overall, it is a good product.\" '''},\n",
    "        {\"role\": \"user\", \"content\": df_final['all_reviews'][i]}\n",
    "    ],\n",
    "    temperature=0.7,\n",
    "    )\n",
    "    summary_reviews.append(completion.choices[0].message.content)\n",
    "df_final['summary_reviews'] = summary_reviews"
   ]
  },
  {
   "cell_type": "markdown",
   "metadata": {},
   "source": [
    "Final dataframe containing the recommended procuts, average rating of the user's with comments and final verdict based on aggregated users comments."
   ]
  },
  {
   "cell_type": "code",
   "execution_count": 27,
   "metadata": {},
   "outputs": [
    {
     "data": {
      "text/html": [
       "<div>\n",
       "<style scoped>\n",
       "    .dataframe tbody tr th:only-of-type {\n",
       "        vertical-align: middle;\n",
       "    }\n",
       "\n",
       "    .dataframe tbody tr th {\n",
       "        vertical-align: top;\n",
       "    }\n",
       "\n",
       "    .dataframe thead th {\n",
       "        text-align: right;\n",
       "    }\n",
       "</style>\n",
       "<table border=\"1\" class=\"dataframe\">\n",
       "  <thead>\n",
       "    <tr style=\"text-align: right;\">\n",
       "      <th></th>\n",
       "      <th>parent_asin</th>\n",
       "      <th>distances</th>\n",
       "      <th>all_reviews</th>\n",
       "      <th>avg_rating</th>\n",
       "      <th>summary_reviews</th>\n",
       "    </tr>\n",
       "  </thead>\n",
       "  <tbody>\n",
       "    <tr>\n",
       "      <th>0</th>\n",
       "      <td>B07FK6V8MG</td>\n",
       "      <td>5.630227</td>\n",
       "      <td>118909    Just too heavy &amp; felt oily on my already oily skin.  I wanted it to be the \"one\", but...I use on my neck &amp; chest.  So it's great, for me, for that.\\nName: text, dtype: object</td>\n",
       "      <td>3.0</td>\n",
       "      <td>179158   Excellent product - really works well and long-lasting. It is a bit expensive though.\\nFinal Verdict: The product is great and effective but might be costly. It has positive feedback on its performance and can cater to specific body parts like neck and chest for some users. However, the high price remains an issue.</td>\n",
       "    </tr>\n",
       "    <tr>\n",
       "      <th>1</th>\n",
       "      <td>B01MEE6DT7</td>\n",
       "      <td>5.643558</td>\n",
       "      <td>257674    This kit is awesome!!! Although I bought it mostly for the face cream, I also appreciate the other products, especially the softener. I apply the softener after I apply my essences and it feels so soft and amazing. I also enjoy the emulsion for the daytime as a lighter moisturizer option. The serum was ok, I didn't feel much of a difference from applying it and not applying it, and same about the eyecream. I have dry/combination skin, on the sensitive side. Overall, it's a great kit, but the face cream 100% steals the show. I will most likely purchase it again.\\n315015                                                                                                                                                                                                                                                                                                                                                                                                                                                                                                                                                                          I really like it.\\nName: text, dtype: object</td>\n",
       "      <td>5.0</td>\n",
       "      <td>Final Verdict: The product is well-liked with great face cream and other useful items. It suits dry/combination skin on the sensitive side. Some users find other products less effective while others are satisfied with overall performance. It can be expensive but worth it for its standout features.</td>\n",
       "    </tr>\n",
       "    <tr>\n",
       "      <th>2</th>\n",
       "      <td>B0854NXJX8</td>\n",
       "      <td>5.902549</td>\n",
       "      <td>5673      I like the sponge that comes with it. It comes wrapped in plastic and feels very hard, like a pumice stone. Once you soak it in water though, it becomes very soft and malleable. The sponge alone is a 5/5.&lt;br /&gt;&lt;br /&gt;The cleanser on the other hand isn't a favorite of mine. It does not have an inner seal and the smell is just meh. I don't know how another reviewer got a citrus smell since the ingredients don't include fragrance. I think the cleanser is a little too harsh and drying for my skin, it might be better for people with very oily skin.\\n442674                                                                                                                                                                                                                                                                                                                                                                      This is a great cleanser your face feels nice and smooth afterwards it got all the gunk off my face when I had when I have my moisturizer and stuff on and gets it all off great buy for the money\\nName: text, dtype: object</td>\n",
       "      <td>4.0</td>\n",
       "      <td>Final Verdict: The product has mixed reviews. It is appreciated for its effective sponge and cleanser's ability to remove makeup. However, there are concerns about the cleanser's harshness, smell, and suitability for particular skin types.</td>\n",
       "    </tr>\n",
       "  </tbody>\n",
       "</table>\n",
       "</div>"
      ],
      "text/plain": [
       "  parent_asin  distances  \\\n",
       "0  B07FK6V8MG   5.630227   \n",
       "1  B01MEE6DT7   5.643558   \n",
       "2  B0854NXJX8   5.902549   \n",
       "\n",
       "                                                                                                                                                                                                                                                                                                                                                                                                                                                                                                                                                                                                                                                                                                                                                                                                                                                                                                                                                                                                                                                                                                                                                                                                                       all_reviews  \\\n",
       "0                                                                                                                                                                                                                                                                                                                                                                                                                                                                                                                                                                                                                                                                                                                                                                                                                                                                                                                                                                                                                                         118909    Just too heavy & felt oily on my already oily skin.  I wanted it to be the \"one\", but...I use on my neck & chest.  So it's great, for me, for that.\\nName: text, dtype: object   \n",
       "1  257674    This kit is awesome!!! Although I bought it mostly for the face cream, I also appreciate the other products, especially the softener. I apply the softener after I apply my essences and it feels so soft and amazing. I also enjoy the emulsion for the daytime as a lighter moisturizer option. The serum was ok, I didn't feel much of a difference from applying it and not applying it, and same about the eyecream. I have dry/combination skin, on the sensitive side. Overall, it's a great kit, but the face cream 100% steals the show. I will most likely purchase it again.\\n315015                                                                                                                                                                                                                                                                                                                                                                                                                                                                                                                                                                          I really like it.\\nName: text, dtype: object   \n",
       "2                                        5673      I like the sponge that comes with it. It comes wrapped in plastic and feels very hard, like a pumice stone. Once you soak it in water though, it becomes very soft and malleable. The sponge alone is a 5/5.<br /><br />The cleanser on the other hand isn't a favorite of mine. It does not have an inner seal and the smell is just meh. I don't know how another reviewer got a citrus smell since the ingredients don't include fragrance. I think the cleanser is a little too harsh and drying for my skin, it might be better for people with very oily skin.\\n442674                                                                                                                                                                                                                                                                                                                                                                      This is a great cleanser your face feels nice and smooth afterwards it got all the gunk off my face when I had when I have my moisturizer and stuff on and gets it all off great buy for the money\\nName: text, dtype: object   \n",
       "\n",
       "   avg_rating  \\\n",
       "0         3.0   \n",
       "1         5.0   \n",
       "2         4.0   \n",
       "\n",
       "                                                                                                                                                                                                                                                                                                                         summary_reviews  \n",
       "0  179158   Excellent product - really works well and long-lasting. It is a bit expensive though.\\nFinal Verdict: The product is great and effective but might be costly. It has positive feedback on its performance and can cater to specific body parts like neck and chest for some users. However, the high price remains an issue.  \n",
       "1                             Final Verdict: The product is well-liked with great face cream and other useful items. It suits dry/combination skin on the sensitive side. Some users find other products less effective while others are satisfied with overall performance. It can be expensive but worth it for its standout features.  \n",
       "2                                                                                        Final Verdict: The product has mixed reviews. It is appreciated for its effective sponge and cleanser's ability to remove makeup. However, there are concerns about the cleanser's harshness, smell, and suitability for particular skin types.  "
      ]
     },
     "execution_count": 27,
     "metadata": {},
     "output_type": "execute_result"
    }
   ],
   "source": [
    "df_final"
   ]
  }
 ],
 "metadata": {
  "kernelspec": {
   "display_name": "amazon23_slickdeal",
   "language": "python",
   "name": "python3"
  },
  "language_info": {
   "codemirror_mode": {
    "name": "ipython",
    "version": 3
   },
   "file_extension": ".py",
   "mimetype": "text/x-python",
   "name": "python",
   "nbconvert_exporter": "python",
   "pygments_lexer": "ipython3",
   "version": "3.9.16"
  }
 },
 "nbformat": 4,
 "nbformat_minor": 2
}
